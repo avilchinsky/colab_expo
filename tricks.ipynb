{
  "nbformat": 4,
  "nbformat_minor": 0,
  "metadata": {
    "colab": {
      "provenance": [],
      "authorship_tag": "ABX9TyPMTe3Ex2IHxQUeITPo2q7v",
      "include_colab_link": true
    },
    "kernelspec": {
      "name": "python3",
      "display_name": "Python 3"
    },
    "language_info": {
      "name": "python"
    }
  },
  "cells": [
    {
      "cell_type": "markdown",
      "metadata": {
        "id": "view-in-github",
        "colab_type": "text"
      },
      "source": [
        "<a href=\"https://colab.research.google.com/github/avilchinsky/colab_expo/blob/main/tricks.ipynb\" target=\"_parent\"><img src=\"https://colab.research.google.com/assets/colab-badge.svg\" alt=\"Open In Colab\"/></a>"
      ]
    },
    {
      "cell_type": "markdown",
      "source": [
        "Sequence Unpacking"
      ],
      "metadata": {
        "id": "qBjKWNOttp2G"
      }
    },
    {
      "cell_type": "code",
      "execution_count": 8,
      "metadata": {
        "id": "3OLs5Lwpmes-",
        "colab": {
          "base_uri": "https://localhost:8080/"
        },
        "outputId": "11cc9069-4aae-4a2f-de88-df2ae3119e90"
      },
      "outputs": [
        {
          "output_type": "execute_result",
          "data": {
            "text/plain": [
              "(1, 2, 3)"
            ]
          },
          "metadata": {},
          "execution_count": 8
        }
      ],
      "source": [
        "data=['a', 'hello', 1, 1.1, (1,2,3)] \n",
        "a,_,_,_,e = data\n",
        "e"
      ]
    },
    {
      "cell_type": "code",
      "source": [
        "testString = 'Happy'\n",
        "a,b,c,d,e = testString\n",
        "c"
      ],
      "metadata": {
        "colab": {
          "base_uri": "https://localhost:8080/",
          "height": 35
        },
        "id": "zNMxBSkGscqn",
        "outputId": "6f2e15f6-1ff9-49f5-fed1-3b304275de43"
      },
      "execution_count": 6,
      "outputs": [
        {
          "output_type": "execute_result",
          "data": {
            "text/plain": [
              "'p'"
            ],
            "application/vnd.google.colaboratory.intrinsic+json": {
              "type": "string"
            }
          },
          "metadata": {},
          "execution_count": 6
        }
      ]
    },
    {
      "cell_type": "code",
      "source": [
        "testArr = [1,2,3,4,5,6,7,8,9,0]\n",
        "*firstNine, lastZero = testArr\n",
        "print(firstNine)\n",
        "print(lastZero)"
      ],
      "metadata": {
        "colab": {
          "base_uri": "https://localhost:8080/"
        },
        "id": "oaYuyVBNsyoq",
        "outputId": "cfd510f5-b1fd-4c6b-a54e-69511a1f6697"
      },
      "execution_count": 9,
      "outputs": [
        {
          "output_type": "stream",
          "name": "stdout",
          "text": [
            "[1, 2, 3, 4, 5, 6, 7, 8, 9]\n",
            "0\n"
          ]
        }
      ]
    },
    {
      "cell_type": "markdown",
      "source": [
        "Disctionaries"
      ],
      "metadata": {
        "id": "YRUvagwNtzEg"
      }
    },
    {
      "cell_type": "code",
      "source": [
        "ages = {\n",
        "    'name1': 10,\n",
        "    'name2': 20,\n",
        "    'name3': 40\n",
        "}"
      ],
      "metadata": {
        "id": "9s1U47kdtpH1"
      },
      "execution_count": 19,
      "outputs": []
    },
    {
      "cell_type": "code",
      "source": [
        "print(max(zip(ages.values(), ages.keys())))\n",
        "print(min(zip(ages.values(), ages.keys())))"
      ],
      "metadata": {
        "colab": {
          "base_uri": "https://localhost:8080/"
        },
        "id": "iYiCcpg4vEpL",
        "outputId": "42f3243c-e4ec-40e9-eaee-9ea885218f0f"
      },
      "execution_count": 20,
      "outputs": [
        {
          "output_type": "stream",
          "name": "stdout",
          "text": [
            "(40, 'name3')\n",
            "(10, 'name1')\n"
          ]
        }
      ]
    },
    {
      "cell_type": "code",
      "source": [
        "print(max(ages, key=lambda s: ages[s]))\n",
        "print(min(ages, key=lambda s: ages[s]))"
      ],
      "metadata": {
        "colab": {
          "base_uri": "https://localhost:8080/"
        },
        "id": "64chb55DvF2m",
        "outputId": "681c8250-d2d9-4cd8-99d6-4df17ebadcfd"
      },
      "execution_count": 22,
      "outputs": [
        {
          "output_type": "stream",
          "name": "stdout",
          "text": [
            "name3\n",
            "name1\n"
          ]
        }
      ]
    },
    {
      "cell_type": "code",
      "source": [
        "({key:value for key,value in ages.items() if value>10})"
      ],
      "metadata": {
        "colab": {
          "base_uri": "https://localhost:8080/"
        },
        "id": "JydI5-KBwCVm",
        "outputId": "6f3cc302-c250-4797-de74-fb9782793df7"
      },
      "execution_count": 26,
      "outputs": [
        {
          "output_type": "execute_result",
          "data": {
            "text/plain": [
              "{'name2': 20, 'name3': 40}"
            ]
          },
          "metadata": {},
          "execution_count": 26
        }
      ]
    },
    {
      "cell_type": "code",
      "source": [
        "{(key,value) for key,value in ages.items() if value>10}"
      ],
      "metadata": {
        "colab": {
          "base_uri": "https://localhost:8080/"
        },
        "id": "37dy4x600aY-",
        "outputId": "ae7dd2c2-8f0a-4c17-bfb9-b9bff743ee3b"
      },
      "execution_count": 30,
      "outputs": [
        {
          "output_type": "execute_result",
          "data": {
            "text/plain": [
              "{('name2', 20), ('name3', 40)}"
            ]
          },
          "metadata": {},
          "execution_count": 30
        }
      ]
    },
    {
      "cell_type": "code",
      "source": [
        "dict((key,value) for key,value in ages.items() if value>10)"
      ],
      "metadata": {
        "colab": {
          "base_uri": "https://localhost:8080/"
        },
        "id": "Ih2x4Bkg0rIW",
        "outputId": "f49b28fa-c84d-4768-ceb7-71e570f23ca9"
      },
      "execution_count": 28,
      "outputs": [
        {
          "output_type": "execute_result",
          "data": {
            "text/plain": [
              "{'name2': 20, 'name3': 40}"
            ]
          },
          "metadata": {},
          "execution_count": 28
        }
      ]
    }
  ]
}